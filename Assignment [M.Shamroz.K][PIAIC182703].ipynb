{
  "cells": [
    {
      "cell_type": "markdown",
      "metadata": {
        "id": "Hs3-rqQLaMOs"
      },
      "source": [
        "**Grand Assignment**"
      ]
    },
    {
      "cell_type": "markdown",
      "metadata": {
        "id": "yoFPv_Hcb3Iv"
      },
      "source": [
        "***Variables and Strings***"
      ]
    },
    {
      "cell_type": "markdown",
      "metadata": {
        "id": "XLAWmJh_b9vr"
      },
      "source": [
        "*1.**Simple Message:** Assign a message to a variable, and then print that\n",
        "message.* "
      ]
    },
    {
      "cell_type": "code",
      "execution_count": 4,
      "metadata": {
        "id": "Xu9FoVk1aKtu"
      },
      "outputs": [
        {
          "name": "stdout",
          "output_type": "stream",
          "text": [
            "Muhammad Shamroz Khan\n",
            "Roll-No: PIAIC182703\n"
          ]
        }
      ],
      "source": [
        "Name = \"Muhammad Shamroz Khan\"\n",
        "ID = \"Roll-No: PIAIC182703\"\n",
        "print(Name)\n",
        "print(ID)"
      ]
    },
    {
      "cell_type": "markdown",
      "metadata": {
        "id": "Ckp41qGzcMhY"
      },
      "source": [
        "2.Find a quote from a famous person you admire. Print the\n",
        "quote and the name of its author. Your output should look something like the\n",
        "following, including the quotation marks:\n",
        "\n",
        "**Albert Einstein once said, “A person who never made a\n",
        "mistake never tried anything new.”**\n"
      ]
    },
    {
      "cell_type": "code",
      "execution_count": 3,
      "metadata": {
        "id": "RAOYKTZDc9l5"
      },
      "outputs": [
        {
          "name": "stdout",
          "output_type": "stream",
          "text": [
            "Robin Sharma once said, \"You can’t make someone feel good about themselves until you feel good about yourself\"\n"
          ]
        }
      ],
      "source": [
        "Quote= \"You can’t make someone feel good about themselves until you feel good about yourself\"\n",
        "f_person = \"Robin Sharma\"\n",
        "print (f\"{f_person} once said, \\\"{Quote}\\\"\")"
      ]
    },
    {
      "cell_type": "markdown",
      "metadata": {
        "id": "5dsWBIrAduRU"
      },
      "source": [
        "*3. Use a variable to represent your favorite number. Then,\n",
        "using that variable, create a message that reveals your favorite number. Print\n",
        "that message*"
      ]
    },
    {
      "cell_type": "code",
      "execution_count": 2,
      "metadata": {
        "id": "n5bKUt2Xdxet"
      },
      "outputs": [
        {
          "name": "stdout",
          "output_type": "stream",
          "text": [
            "My age is: 22\n"
          ]
        }
      ],
      "source": [
        "age = 22\n",
        "print (\"My age is:\",age)"
      ]
    },
    {
      "cell_type": "markdown",
      "metadata": {
        "id": "03-7JmJFh1gu"
      },
      "source": [
        "4. **Calculate Area of a Circle::**\n",
        "\n",
        "Write a Python program which accepts the radius of a circle from the user and compute the area.\n",
        "\n",
        "Program Console Sample Output 1:\n",
        "\n",
        "Input Radius: 0.5\n",
        "\n",
        "Area of Circle with radius 0.5 is 0.7853981634"
      ]
    },
    {
      "cell_type": "code",
      "execution_count": 5,
      "metadata": {
        "id": "ZQqUhli7iD8V"
      },
      "outputs": [
        {
          "name": "stdout",
          "output_type": "stream",
          "text": [
            "Area of Circle with radius 0.5 is 0.7853981633974483\n"
          ]
        }
      ],
      "source": [
        "import math\n",
        "Radius=float(input(\"Input your radius: \"))\n",
        "Area= math.pi*(Radius**2)\n",
        "print(\"Area of Circle with radius \" + str(Radius) + \" is \" + str(Area))\n"
      ]
    },
    {
      "cell_type": "markdown",
      "metadata": {
        "id": "_52LUHoriEdK"
      },
      "source": [
        "5. **Check Number either positive, negative or zero::**\n",
        "\n",
        "Write a Python program to check if a number is positive, \n",
        "\n",
        "negative or zero\n",
        "\n",
        "Program Console Sample Output 1:\n",
        "\n",
        "Enter Number: -1\n",
        "\n",
        "Negative Number Entered\n",
        "\n",
        "Program Console Sample Output 2:\n",
        "\n",
        "Integer: 3\n",
        "\n",
        "Positive Number Entered\n",
        "\n",
        "Program Console Sample Output 3:\n",
        "\n",
        "Integer: 0\n",
        "\n",
        "Zero Entered"
      ]
    },
    {
      "cell_type": "code",
      "execution_count": 6,
      "metadata": {
        "id": "_yLJAc80iXk0"
      },
      "outputs": [
        {
          "name": "stdout",
          "output_type": "stream",
          "text": [
            "Entered number: -1\n",
            "Negative Number Entered.\n"
          ]
        }
      ],
      "source": [
        "num_check= int(input(\"Enter any number: \"))\n",
        "print (\"Entered number:\",num_check)\n",
        "if num_check == 0:\n",
        "    print (\"Zero Entered.\")\n",
        "    \n",
        "elif num_check > 0:\n",
        "    print (\"Positive Number Entered.\")\n",
        "    \n",
        "else:\n",
        "    print (\"Negative Number Entered.\")"
      ]
    },
    {
      "cell_type": "markdown",
      "metadata": {
        "id": "vjXA6uhpiYQX"
      },
      "source": [
        "6. **Vowel Tester**\n",
        "Write a Python program to test whether a passed letter is a vowel or not\n",
        "\n",
        "Program Console Output 1:\n",
        "\n",
        "Enter a character: A\n",
        "\n",
        "Letter A is Vowel\n",
        "\n",
        "Program Console Output 2:\n",
        "\n",
        "Enter a character: e\n",
        "\n",
        "Letter e is Vowel\n",
        "\n",
        "Program Console Output 2:\n",
        "\n",
        "Enter a character: N\n",
        "\n",
        "Letter N is not Vowel."
      ]
    },
    {
      "cell_type": "code",
      "execution_count": 9,
      "metadata": {
        "id": "L62zqtG1jEb9"
      },
      "outputs": [
        {
          "name": "stdout",
          "output_type": "stream",
          "text": [
            "Letter A is vowel.\n"
          ]
        }
      ],
      "source": [
        "vowels = [\"A\",\"E\",\"I\",\"O\",\"U\"]\n",
        "vowel_tester = input(\"Enter any alphabet: \")\n",
        "\n",
        "if vowel_tester.upper() in vowels:\n",
        "    print (f\"Letter {vowel_tester} is vowel.\")\n",
        "else:\n",
        "    print (f\"Letter {vowel_tester} is NOT vowel.\")"
      ]
    },
    {
      "cell_type": "markdown",
      "metadata": {
        "id": "qZIGjsnDjFdk"
      },
      "source": [
        "7. **BMI Calculator**\n",
        "\n",
        "Write a Python program to calculate body mass index\n",
        "Program Console Sample 1:\n",
        "\n",
        "Enter Height in Cm: 180\n",
        "\n",
        "Enter Weight in Kg: 75\n",
        "\n",
        "Your BMI is 23.15"
      ]
    },
    {
      "cell_type": "code",
      "execution_count": 11,
      "metadata": {
        "id": "lE-JyyTnjcJU"
      },
      "outputs": [
        {
          "name": "stdout",
          "output_type": "stream",
          "text": [
            "Your BMI is 19.159760541743303\n"
          ]
        }
      ],
      "source": [
        "height = float(input(\"Enter Height in Cm: \"))\n",
        "weight = float(input(\"Enter Weight in Kg: \"))\n",
        "\n",
        "BMI_check = weight/(height/100)**2\n",
        "print(\"Your BMI is\",BMI_check)"
      ]
    },
    {
      "cell_type": "markdown",
      "metadata": {
        "id": "11fYzZYid3qq"
      },
      "source": [
        "**List::**"
      ]
    },
    {
      "cell_type": "markdown",
      "metadata": {
        "id": "oUNnrKdyeOks"
      },
      "source": [
        "8. **Store the names of a few of your friends in a list called names**\n",
        "\n",
        " Print each person’s name by accessing each element in the list, one at a time."
      ]
    },
    {
      "cell_type": "code",
      "execution_count": 21,
      "metadata": {
        "id": "RY49qmHQeOGB"
      },
      "outputs": [
        {
          "name": "stdout",
          "output_type": "stream",
          "text": [
            "\n",
            " Huzaifa \n",
            " Mubashara \n",
            " Hasan\n"
          ]
        }
      ],
      "source": [
        "f_name = [\"Huzaifa\", \"Mubashara\", \"Hasan\"]\n",
        "print ('\\n',f_name[0],'\\n',f_name[1],'\\n',f_name[2])"
      ]
    },
    {
      "cell_type": "markdown",
      "metadata": {
        "id": "HQe4CmBLd0a0"
      },
      "source": [
        "9. Start with the list you used in Question 4, but instead of just  printing each person’s name, print a message to them. The text of each message should be the same, but each message should be personalized with the\n",
        "person’s name."
      ]
    },
    {
      "cell_type": "code",
      "execution_count": 23,
      "metadata": {
        "id": "QfaA6SZieroG"
      },
      "outputs": [
        {
          "name": "stdout",
          "output_type": "stream",
          "text": [
            "Congratulations Huzaifa !, you are selected for the job.\n",
            "Congratulations Mubashara !, you are selected for the job.\n",
            "Congratulations Hasan !, you are selected for the job.\n"
          ]
        }
      ],
      "source": [
        "for txt in f_name:\n",
        "    print (f\"Congratulations {txt} !, you are selected for the job.\")"
      ]
    },
    {
      "cell_type": "markdown",
      "metadata": {
        "id": "3t-zoTSTesyI"
      },
      "source": [
        " 10.**Make a python program that conatains your nine favourite dishes in a list called foods.**\n",
        "Print the message, The first three items in the list are:\n",
        "\n",
        "Then use a slice to print the first three items from that program’s list.\n",
        "\n",
        "Print the message, Three items from the middle of the list are:\n",
        "\n",
        "Use a slice to print three items from the middle of the list.\n",
        "\n",
        "Print the message, The last three items in the list are:\n",
        "\n",
        "Use a slice to print the last three items in the list."
      ]
    },
    {
      "cell_type": "code",
      "execution_count": 31,
      "metadata": {
        "id": "ZpnPQbgAmQhu"
      },
      "outputs": [
        {
          "name": "stdout",
          "output_type": "stream",
          "text": [
            "Dishes:  ['Burger', 'Fries', 'ande wala Burger', 'Steak', 'Sandwiches', 'Beef Steak', 'Noodles']\n",
            "First three items in the list are:  ['Burger', 'Fries', 'ande wala Burger']\n",
            "Three items from the middle of the list are:  ['Steak', 'Sandwiches', 'Beef Steak']\n",
            "The last three items in the list are:  ['Noodles']\n"
          ]
        }
      ],
      "source": [
        "foods = [\"Burger\",\"Fries\",\"ande wala Burger\",\"Steak\",\"Sandwiches\",\"Beef Steak\",\"Noodles\"]\n",
        "print (\"Dishes: \",foods)\n",
        "\n",
        "print (\"First three items in the list are: \",foods[:3])\n",
        "\n",
        "print (\"Three items from the middle of the list are: \",foods[3:6])\n",
        "\n",
        "print (\"The last three items in the list are: \",foods[6:])"
      ]
    },
    {
      "cell_type": "markdown",
      "metadata": {
        "id": "h37WaaZKmRMe"
      },
      "source": [
        "11. **Start with your program from your last Question8.**\n",
        "Make a copy of the list of foods, and call it friend_foods.\n",
        "Then, do the following:\n",
        "\n",
        "Add a new dish to the original list.\n",
        "\n",
        "Add a different dish to the list friend_foods.\n",
        "\n",
        "Prove that you have two separate lists.\n",
        "\n",
        "Print the message, My favorite pizzas are: and then use a for loop to print the first list.\n",
        "\n",
        "Print the message,\n",
        "\n",
        "My friend’s favorite foods are:, and then use a for loop to print the second list.\n",
        "\n",
        "NOTE: Make sure each new dish is stored in the appropriate list."
      ]
    },
    {
      "cell_type": "code",
      "execution_count": 32,
      "metadata": {
        "id": "6FvxV2CioBQB"
      },
      "outputs": [
        {
          "name": "stdout",
          "output_type": "stream",
          "text": [
            "My Food List:  ['Burger', 'Fries', 'ande wala Burger', 'Steak', 'Sandwiches', 'Noodles']\n",
            "\n",
            "Friend's Food List:  ['Burger', 'Fries', 'ande wala Burger', 'Steak', 'Sandwiches', 'Beef Steak', 'Noodles', 'Zingerata']\n",
            "\n",
            "False\n",
            "my favorite foods are:  Burger\n",
            "my favorite foods are:  Fries\n",
            "my favorite foods are:  ande wala Burger\n",
            "my favorite foods are:  Steak\n",
            "my favorite foods are:  Sandwiches\n",
            "my favorite foods are:  Noodles\n",
            "\n",
            "my friend's favorite foods are:  Burger\n",
            "my friend's favorite foods are:  Fries\n",
            "my friend's favorite foods are:  ande wala Burger\n",
            "my friend's favorite foods are:  Steak\n",
            "my friend's favorite foods are:  Sandwiches\n",
            "my friend's favorite foods are:  Beef Steak\n",
            "my friend's favorite foods are:  Noodles\n",
            "my friend's favorite foods are:  Zingerata\n"
          ]
        }
      ],
      "source": [
        "friend_foods = []\n",
        "for food in foods:\n",
        "    friend_foods.append(food)\n",
        "\n",
        "if \"Beef Steak\" in foods:\n",
        "    foods.remove(\"Beef Steak\")\n",
        "    \n",
        "\n",
        "friend_foods.append(\"Zingerata\")\n",
        "\n",
        "print (\"My Food List: \",foods)\n",
        "print()\n",
        "print (\"Friend's Food List: \",friend_foods)\n",
        "print()\n",
        "\n",
        "print (foods == friend_foods)\n",
        "\n",
        "\n",
        "for f in foods:\n",
        "    print (\"my favorite foods are: \",f)\n",
        "print()\n",
        "    \n",
        "for frnd_f in friend_foods:\n",
        "    print (\"my friend's favorite foods are: \",frnd_f)"
      ]
    }
  ],
  "metadata": {
    "colab": {
      "collapsed_sections": [],
      "name": "Assignment.ipynb",
      "provenance": []
    },
    "kernelspec": {
      "display_name": "Python 3.10.5 64-bit",
      "language": "python",
      "name": "python3"
    },
    "language_info": {
      "codemirror_mode": {
        "name": "ipython",
        "version": 3
      },
      "file_extension": ".py",
      "mimetype": "text/x-python",
      "name": "python",
      "nbconvert_exporter": "python",
      "pygments_lexer": "ipython3",
      "version": "3.10.5"
    },
    "vscode": {
      "interpreter": {
        "hash": "b86eea123d34ca03b9017ec1f92814b4f050e0f3e0d0a5b047264bf368833ab4"
      }
    }
  },
  "nbformat": 4,
  "nbformat_minor": 0
}
